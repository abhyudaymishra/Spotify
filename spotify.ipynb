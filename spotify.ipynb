{
  "nbformat": 4,
  "nbformat_minor": 0,
  "metadata": {
    "colab": {
      "provenance": []
    },
    "kernelspec": {
      "name": "python3",
      "display_name": "Python 3"
    },
    "language_info": {
      "name": "python"
    }
  },
  "cells": [
    {
      "cell_type": "markdown",
      "source": [
        "# **Spotify Analysis** "
      ],
      "metadata": {
        "id": "VACL6XTTUvnk"
      }
    },
    {
      "cell_type": "markdown",
      "source": [
        "Spotify was founded in April 2006 as a Swedish audio streaming and media services provider. It is the world's largest provider of music streaming services, with over 381 million monthly active users, including 172 million paid subscribers.\n",
        "\n",
        "We'll look at and quantify data about music to gain valuable insights.\n",
        "\n",
        "Using Python, conduct an exploratory data analysis (EDA) and data visualisation project with Spotify data.\n",
        "\n",
        "Spotify Data Analysis makes use of secondary Spotify data. Data will be used by students to identify patterns and relationships between various characteristics. The activity will help students improve their ability to review and interpret data. The activity begins by encouraging students to consider questions that the dataset might answer, thereby developing their \"problem solving\" skills. After analysing the dataset, learners will be able to reorganise and restructure the data to help them answer their questions."
      ],
      "metadata": {
        "id": "Uv1qtTTYtCV_"
      }
    },
    {
      "cell_type": "code",
      "source": [
        "#importing the libraries\n",
        "import pandas as pd\n",
        "import numpy as np\n",
        "import matplotlib.pyplot as plt\n",
        "import seaborn as sns\n"
      ],
      "metadata": {
        "id": "o5X_z-m-U3Pf"
      },
      "execution_count": 37,
      "outputs": []
    },
    {
      "cell_type": "code",
      "source": [
        "#importing and mouting the drive\n",
        "from google.colab import drive\n",
        "drive.mount('/content/drive')"
      ],
      "metadata": {
        "colab": {
          "base_uri": "https://localhost:8080/"
        },
        "id": "9kRy7NyxISKU",
        "outputId": "4a35a9ee-8290-4183-e28e-076ec49ad310"
      },
      "execution_count": 8,
      "outputs": [
        {
          "output_type": "stream",
          "name": "stdout",
          "text": [
            "Drive already mounted at /content/drive; to attempt to forcibly remount, call drive.mount(\"/content/drive\", force_remount=True).\n"
          ]
        }
      ]
    },
    {
      "cell_type": "code",
      "source": [
        "#Loading the dataset\n",
        "df=pd.read_csv(\"/content/drive/MyDrive/Spotify_final_dataset[1].csv\")"
      ],
      "metadata": {
        "id": "hj-P6ab-IFQc"
      },
      "execution_count": 9,
      "outputs": []
    },
    {
      "cell_type": "code",
      "source": [
        "#Finding the first five rows of the dataset\n",
        "df.head()"
      ],
      "metadata": {
        "colab": {
          "base_uri": "https://localhost:8080/",
          "height": 250
        },
        "id": "CKfvN9fTIrf4",
        "outputId": "45dbb169-ca99-49c6-9152-520511cae1d6"
      },
      "execution_count": 10,
      "outputs": [
        {
          "output_type": "execute_result",
          "data": {
            "text/plain": [
              "   Position    Artist Name                                   Song Name  Days  \\\n",
              "0         1   Post Malone   Sunflower  SpiderMan: Into the SpiderVerse  1506   \n",
              "1         2    Juice WRLD                                 Lucid Dreams  1673   \n",
              "2         3  Lil Uzi Vert                                XO TOUR Llif3  1853   \n",
              "3         4       J. Cole                               No Role Modelz  2547   \n",
              "4         5   Post Malone                                     rockstar  1223   \n",
              "\n",
              "   Top 10 (xTimes)  Peak Position Peak Position (xTimes)  Peak Streams  \\\n",
              "0            302.0              1                  (x29)       2118242   \n",
              "1            178.0              1                  (x20)       2127668   \n",
              "2            212.0              1                   (x4)       1660502   \n",
              "3              6.0              7                      0        659366   \n",
              "4            186.0              1                 (x124)       2905678   \n",
              "\n",
              "   Total Streams  \n",
              "0      883369738  \n",
              "1      864832399  \n",
              "2      781153024  \n",
              "3      734857487  \n",
              "4      718865961  "
            ],
            "text/html": [
              "\n",
              "  <div id=\"df-9089f33c-848e-4c5c-ac41-546ede33d7a7\">\n",
              "    <div class=\"colab-df-container\">\n",
              "      <div>\n",
              "<style scoped>\n",
              "    .dataframe tbody tr th:only-of-type {\n",
              "        vertical-align: middle;\n",
              "    }\n",
              "\n",
              "    .dataframe tbody tr th {\n",
              "        vertical-align: top;\n",
              "    }\n",
              "\n",
              "    .dataframe thead th {\n",
              "        text-align: right;\n",
              "    }\n",
              "</style>\n",
              "<table border=\"1\" class=\"dataframe\">\n",
              "  <thead>\n",
              "    <tr style=\"text-align: right;\">\n",
              "      <th></th>\n",
              "      <th>Position</th>\n",
              "      <th>Artist Name</th>\n",
              "      <th>Song Name</th>\n",
              "      <th>Days</th>\n",
              "      <th>Top 10 (xTimes)</th>\n",
              "      <th>Peak Position</th>\n",
              "      <th>Peak Position (xTimes)</th>\n",
              "      <th>Peak Streams</th>\n",
              "      <th>Total Streams</th>\n",
              "    </tr>\n",
              "  </thead>\n",
              "  <tbody>\n",
              "    <tr>\n",
              "      <th>0</th>\n",
              "      <td>1</td>\n",
              "      <td>Post Malone</td>\n",
              "      <td>Sunflower  SpiderMan: Into the SpiderVerse</td>\n",
              "      <td>1506</td>\n",
              "      <td>302.0</td>\n",
              "      <td>1</td>\n",
              "      <td>(x29)</td>\n",
              "      <td>2118242</td>\n",
              "      <td>883369738</td>\n",
              "    </tr>\n",
              "    <tr>\n",
              "      <th>1</th>\n",
              "      <td>2</td>\n",
              "      <td>Juice WRLD</td>\n",
              "      <td>Lucid Dreams</td>\n",
              "      <td>1673</td>\n",
              "      <td>178.0</td>\n",
              "      <td>1</td>\n",
              "      <td>(x20)</td>\n",
              "      <td>2127668</td>\n",
              "      <td>864832399</td>\n",
              "    </tr>\n",
              "    <tr>\n",
              "      <th>2</th>\n",
              "      <td>3</td>\n",
              "      <td>Lil Uzi Vert</td>\n",
              "      <td>XO TOUR Llif3</td>\n",
              "      <td>1853</td>\n",
              "      <td>212.0</td>\n",
              "      <td>1</td>\n",
              "      <td>(x4)</td>\n",
              "      <td>1660502</td>\n",
              "      <td>781153024</td>\n",
              "    </tr>\n",
              "    <tr>\n",
              "      <th>3</th>\n",
              "      <td>4</td>\n",
              "      <td>J. Cole</td>\n",
              "      <td>No Role Modelz</td>\n",
              "      <td>2547</td>\n",
              "      <td>6.0</td>\n",
              "      <td>7</td>\n",
              "      <td>0</td>\n",
              "      <td>659366</td>\n",
              "      <td>734857487</td>\n",
              "    </tr>\n",
              "    <tr>\n",
              "      <th>4</th>\n",
              "      <td>5</td>\n",
              "      <td>Post Malone</td>\n",
              "      <td>rockstar</td>\n",
              "      <td>1223</td>\n",
              "      <td>186.0</td>\n",
              "      <td>1</td>\n",
              "      <td>(x124)</td>\n",
              "      <td>2905678</td>\n",
              "      <td>718865961</td>\n",
              "    </tr>\n",
              "  </tbody>\n",
              "</table>\n",
              "</div>\n",
              "      <button class=\"colab-df-convert\" onclick=\"convertToInteractive('df-9089f33c-848e-4c5c-ac41-546ede33d7a7')\"\n",
              "              title=\"Convert this dataframe to an interactive table.\"\n",
              "              style=\"display:none;\">\n",
              "        \n",
              "  <svg xmlns=\"http://www.w3.org/2000/svg\" height=\"24px\"viewBox=\"0 0 24 24\"\n",
              "       width=\"24px\">\n",
              "    <path d=\"M0 0h24v24H0V0z\" fill=\"none\"/>\n",
              "    <path d=\"M18.56 5.44l.94 2.06.94-2.06 2.06-.94-2.06-.94-.94-2.06-.94 2.06-2.06.94zm-11 1L8.5 8.5l.94-2.06 2.06-.94-2.06-.94L8.5 2.5l-.94 2.06-2.06.94zm10 10l.94 2.06.94-2.06 2.06-.94-2.06-.94-.94-2.06-.94 2.06-2.06.94z\"/><path d=\"M17.41 7.96l-1.37-1.37c-.4-.4-.92-.59-1.43-.59-.52 0-1.04.2-1.43.59L10.3 9.45l-7.72 7.72c-.78.78-.78 2.05 0 2.83L4 21.41c.39.39.9.59 1.41.59.51 0 1.02-.2 1.41-.59l7.78-7.78 2.81-2.81c.8-.78.8-2.07 0-2.86zM5.41 20L4 18.59l7.72-7.72 1.47 1.35L5.41 20z\"/>\n",
              "  </svg>\n",
              "      </button>\n",
              "      \n",
              "  <style>\n",
              "    .colab-df-container {\n",
              "      display:flex;\n",
              "      flex-wrap:wrap;\n",
              "      gap: 12px;\n",
              "    }\n",
              "\n",
              "    .colab-df-convert {\n",
              "      background-color: #E8F0FE;\n",
              "      border: none;\n",
              "      border-radius: 50%;\n",
              "      cursor: pointer;\n",
              "      display: none;\n",
              "      fill: #1967D2;\n",
              "      height: 32px;\n",
              "      padding: 0 0 0 0;\n",
              "      width: 32px;\n",
              "    }\n",
              "\n",
              "    .colab-df-convert:hover {\n",
              "      background-color: #E2EBFA;\n",
              "      box-shadow: 0px 1px 2px rgba(60, 64, 67, 0.3), 0px 1px 3px 1px rgba(60, 64, 67, 0.15);\n",
              "      fill: #174EA6;\n",
              "    }\n",
              "\n",
              "    [theme=dark] .colab-df-convert {\n",
              "      background-color: #3B4455;\n",
              "      fill: #D2E3FC;\n",
              "    }\n",
              "\n",
              "    [theme=dark] .colab-df-convert:hover {\n",
              "      background-color: #434B5C;\n",
              "      box-shadow: 0px 1px 3px 1px rgba(0, 0, 0, 0.15);\n",
              "      filter: drop-shadow(0px 1px 2px rgba(0, 0, 0, 0.3));\n",
              "      fill: #FFFFFF;\n",
              "    }\n",
              "  </style>\n",
              "\n",
              "      <script>\n",
              "        const buttonEl =\n",
              "          document.querySelector('#df-9089f33c-848e-4c5c-ac41-546ede33d7a7 button.colab-df-convert');\n",
              "        buttonEl.style.display =\n",
              "          google.colab.kernel.accessAllowed ? 'block' : 'none';\n",
              "\n",
              "        async function convertToInteractive(key) {\n",
              "          const element = document.querySelector('#df-9089f33c-848e-4c5c-ac41-546ede33d7a7');\n",
              "          const dataTable =\n",
              "            await google.colab.kernel.invokeFunction('convertToInteractive',\n",
              "                                                     [key], {});\n",
              "          if (!dataTable) return;\n",
              "\n",
              "          const docLinkHtml = 'Like what you see? Visit the ' +\n",
              "            '<a target=\"_blank\" href=https://colab.research.google.com/notebooks/data_table.ipynb>data table notebook</a>'\n",
              "            + ' to learn more about interactive tables.';\n",
              "          element.innerHTML = '';\n",
              "          dataTable['output_type'] = 'display_data';\n",
              "          await google.colab.output.renderOutput(dataTable, element);\n",
              "          const docLink = document.createElement('div');\n",
              "          docLink.innerHTML = docLinkHtml;\n",
              "          element.appendChild(docLink);\n",
              "        }\n",
              "      </script>\n",
              "    </div>\n",
              "  </div>\n",
              "  "
            ]
          },
          "metadata": {},
          "execution_count": 10
        }
      ]
    },
    {
      "cell_type": "code",
      "source": [
        "#Finding the number of rows and columns\n",
        "print(f\"This data set contains {df.shape[1]} columns and {df.shape[0]} rows\")"
      ],
      "metadata": {
        "colab": {
          "base_uri": "https://localhost:8080/"
        },
        "id": "b5CujLFgIuSv",
        "outputId": "e8d4315e-a602-40b3-93ca-b046a5b380f3"
      },
      "execution_count": 88,
      "outputs": [
        {
          "output_type": "stream",
          "name": "stdout",
          "text": [
            "This data set contains 9 columns and 11084 rows\n"
          ]
        }
      ]
    },
    {
      "cell_type": "code",
      "source": [
        "#Finding the name of Columns\n",
        "df.columns"
      ],
      "metadata": {
        "colab": {
          "base_uri": "https://localhost:8080/"
        },
        "id": "sDawFsekIyAk",
        "outputId": "0a4cec63-bde0-4fac-bc73-b32a222555a9"
      },
      "execution_count": 12,
      "outputs": [
        {
          "output_type": "execute_result",
          "data": {
            "text/plain": [
              "Index(['Position', 'Artist Name', 'Song Name', 'Days', 'Top 10 (xTimes)',\n",
              "       'Peak Position', 'Peak Position (xTimes)', 'Peak Streams',\n",
              "       'Total Streams'],\n",
              "      dtype='object')"
            ]
          },
          "metadata": {},
          "execution_count": 12
        }
      ]
    },
    {
      "cell_type": "code",
      "source": [
        "df.info()"
      ],
      "metadata": {
        "colab": {
          "base_uri": "https://localhost:8080/"
        },
        "id": "7fzOd6QQI1en",
        "outputId": "91134d63-e8f2-49b8-c1e9-21ec96108349"
      },
      "execution_count": 13,
      "outputs": [
        {
          "output_type": "stream",
          "name": "stdout",
          "text": [
            "<class 'pandas.core.frame.DataFrame'>\n",
            "RangeIndex: 11084 entries, 0 to 11083\n",
            "Data columns (total 9 columns):\n",
            " #   Column                  Non-Null Count  Dtype  \n",
            "---  ------                  --------------  -----  \n",
            " 0   Position                11084 non-null  int64  \n",
            " 1   Artist Name             11084 non-null  object \n",
            " 2   Song Name               11080 non-null  object \n",
            " 3   Days                    11084 non-null  int64  \n",
            " 4   Top 10 (xTimes)         11084 non-null  float64\n",
            " 5   Peak Position           11084 non-null  int64  \n",
            " 6   Peak Position (xTimes)  11084 non-null  object \n",
            " 7   Peak Streams            11084 non-null  int64  \n",
            " 8   Total Streams           11084 non-null  int64  \n",
            "dtypes: float64(1), int64(5), object(3)\n",
            "memory usage: 779.5+ KB\n"
          ]
        }
      ]
    },
    {
      "cell_type": "code",
      "source": [
        "#Checking if there is any null values in the dataset\n",
        "df.isna().sum"
      ],
      "metadata": {
        "colab": {
          "base_uri": "https://localhost:8080/"
        },
        "id": "Ikd8YLCGI7Gv",
        "outputId": "e0b70325-8eb2-41ad-e77f-f3494ef4f7a5"
      },
      "execution_count": 89,
      "outputs": [
        {
          "output_type": "execute_result",
          "data": {
            "text/plain": [
              "<bound method NDFrame._add_numeric_operations.<locals>.sum of        Position  Artist Name  Song Name   Days  Top 10 (xTimes)  \\\n",
              "0         False        False      False  False            False   \n",
              "1         False        False      False  False            False   \n",
              "2         False        False      False  False            False   \n",
              "3         False        False      False  False            False   \n",
              "4         False        False      False  False            False   \n",
              "...         ...          ...        ...    ...              ...   \n",
              "11079     False        False      False  False            False   \n",
              "11080     False        False      False  False            False   \n",
              "11081     False        False      False  False            False   \n",
              "11082     False        False      False  False            False   \n",
              "11083     False        False      False  False            False   \n",
              "\n",
              "       Peak Position  Peak Position (xTimes)  Peak Streams  Total Streams  \n",
              "0              False                   False         False          False  \n",
              "1              False                   False         False          False  \n",
              "2              False                   False         False          False  \n",
              "3              False                   False         False          False  \n",
              "4              False                   False         False          False  \n",
              "...              ...                     ...           ...            ...  \n",
              "11079          False                   False         False          False  \n",
              "11080          False                   False         False          False  \n",
              "11081          False                   False         False          False  \n",
              "11082          False                   False         False          False  \n",
              "11083          False                   False         False          False  \n",
              "\n",
              "[11084 rows x 9 columns]>"
            ]
          },
          "metadata": {},
          "execution_count": 89
        }
      ]
    },
    {
      "cell_type": "code",
      "source": [
        "#Finding the description of the dataset \n",
        "df.describe()"
      ],
      "metadata": {
        "colab": {
          "base_uri": "https://localhost:8080/",
          "height": 300
        },
        "id": "aMAvOZImJBdO",
        "outputId": "0ce200f4-8e1d-4c6a-9847-1e3632c80481"
      },
      "execution_count": 15,
      "outputs": [
        {
          "output_type": "execute_result",
          "data": {
            "text/plain": [
              "           Position          Days  Top 10 (xTimes)  Peak Position  \\\n",
              "count  11084.000000  11084.000000     11084.000000   11084.000000   \n",
              "mean    5542.500000     53.366925         2.713641      83.070101   \n",
              "std     3199.819526    129.750902        15.604130      58.932049   \n",
              "min        1.000000      1.000000         0.000000       1.000000   \n",
              "25%     2771.750000      2.000000         0.000000      29.000000   \n",
              "50%     5542.500000      7.000000         0.000000      75.000000   \n",
              "75%     8313.250000     39.000000         0.000000     132.000000   \n",
              "max    11084.000000   2547.000000       302.000000     200.000000   \n",
              "\n",
              "       Peak Streams  Total Streams  \n",
              "count  1.108400e+04   1.108400e+04  \n",
              "mean   5.529469e+05   1.830891e+07  \n",
              "std    6.282936e+05   5.219383e+07  \n",
              "min    4.432300e+04   4.432300e+04  \n",
              "25%    2.431595e+05   3.824272e+05  \n",
              "50%    3.505885e+05   1.704876e+06  \n",
              "75%    5.963382e+05   1.078333e+07  \n",
              "max    7.786096e+06   8.833697e+08  "
            ],
            "text/html": [
              "\n",
              "  <div id=\"df-aa3de6f4-a65a-4b3c-98c2-a3657b976a28\">\n",
              "    <div class=\"colab-df-container\">\n",
              "      <div>\n",
              "<style scoped>\n",
              "    .dataframe tbody tr th:only-of-type {\n",
              "        vertical-align: middle;\n",
              "    }\n",
              "\n",
              "    .dataframe tbody tr th {\n",
              "        vertical-align: top;\n",
              "    }\n",
              "\n",
              "    .dataframe thead th {\n",
              "        text-align: right;\n",
              "    }\n",
              "</style>\n",
              "<table border=\"1\" class=\"dataframe\">\n",
              "  <thead>\n",
              "    <tr style=\"text-align: right;\">\n",
              "      <th></th>\n",
              "      <th>Position</th>\n",
              "      <th>Days</th>\n",
              "      <th>Top 10 (xTimes)</th>\n",
              "      <th>Peak Position</th>\n",
              "      <th>Peak Streams</th>\n",
              "      <th>Total Streams</th>\n",
              "    </tr>\n",
              "  </thead>\n",
              "  <tbody>\n",
              "    <tr>\n",
              "      <th>count</th>\n",
              "      <td>11084.000000</td>\n",
              "      <td>11084.000000</td>\n",
              "      <td>11084.000000</td>\n",
              "      <td>11084.000000</td>\n",
              "      <td>1.108400e+04</td>\n",
              "      <td>1.108400e+04</td>\n",
              "    </tr>\n",
              "    <tr>\n",
              "      <th>mean</th>\n",
              "      <td>5542.500000</td>\n",
              "      <td>53.366925</td>\n",
              "      <td>2.713641</td>\n",
              "      <td>83.070101</td>\n",
              "      <td>5.529469e+05</td>\n",
              "      <td>1.830891e+07</td>\n",
              "    </tr>\n",
              "    <tr>\n",
              "      <th>std</th>\n",
              "      <td>3199.819526</td>\n",
              "      <td>129.750902</td>\n",
              "      <td>15.604130</td>\n",
              "      <td>58.932049</td>\n",
              "      <td>6.282936e+05</td>\n",
              "      <td>5.219383e+07</td>\n",
              "    </tr>\n",
              "    <tr>\n",
              "      <th>min</th>\n",
              "      <td>1.000000</td>\n",
              "      <td>1.000000</td>\n",
              "      <td>0.000000</td>\n",
              "      <td>1.000000</td>\n",
              "      <td>4.432300e+04</td>\n",
              "      <td>4.432300e+04</td>\n",
              "    </tr>\n",
              "    <tr>\n",
              "      <th>25%</th>\n",
              "      <td>2771.750000</td>\n",
              "      <td>2.000000</td>\n",
              "      <td>0.000000</td>\n",
              "      <td>29.000000</td>\n",
              "      <td>2.431595e+05</td>\n",
              "      <td>3.824272e+05</td>\n",
              "    </tr>\n",
              "    <tr>\n",
              "      <th>50%</th>\n",
              "      <td>5542.500000</td>\n",
              "      <td>7.000000</td>\n",
              "      <td>0.000000</td>\n",
              "      <td>75.000000</td>\n",
              "      <td>3.505885e+05</td>\n",
              "      <td>1.704876e+06</td>\n",
              "    </tr>\n",
              "    <tr>\n",
              "      <th>75%</th>\n",
              "      <td>8313.250000</td>\n",
              "      <td>39.000000</td>\n",
              "      <td>0.000000</td>\n",
              "      <td>132.000000</td>\n",
              "      <td>5.963382e+05</td>\n",
              "      <td>1.078333e+07</td>\n",
              "    </tr>\n",
              "    <tr>\n",
              "      <th>max</th>\n",
              "      <td>11084.000000</td>\n",
              "      <td>2547.000000</td>\n",
              "      <td>302.000000</td>\n",
              "      <td>200.000000</td>\n",
              "      <td>7.786096e+06</td>\n",
              "      <td>8.833697e+08</td>\n",
              "    </tr>\n",
              "  </tbody>\n",
              "</table>\n",
              "</div>\n",
              "      <button class=\"colab-df-convert\" onclick=\"convertToInteractive('df-aa3de6f4-a65a-4b3c-98c2-a3657b976a28')\"\n",
              "              title=\"Convert this dataframe to an interactive table.\"\n",
              "              style=\"display:none;\">\n",
              "        \n",
              "  <svg xmlns=\"http://www.w3.org/2000/svg\" height=\"24px\"viewBox=\"0 0 24 24\"\n",
              "       width=\"24px\">\n",
              "    <path d=\"M0 0h24v24H0V0z\" fill=\"none\"/>\n",
              "    <path d=\"M18.56 5.44l.94 2.06.94-2.06 2.06-.94-2.06-.94-.94-2.06-.94 2.06-2.06.94zm-11 1L8.5 8.5l.94-2.06 2.06-.94-2.06-.94L8.5 2.5l-.94 2.06-2.06.94zm10 10l.94 2.06.94-2.06 2.06-.94-2.06-.94-.94-2.06-.94 2.06-2.06.94z\"/><path d=\"M17.41 7.96l-1.37-1.37c-.4-.4-.92-.59-1.43-.59-.52 0-1.04.2-1.43.59L10.3 9.45l-7.72 7.72c-.78.78-.78 2.05 0 2.83L4 21.41c.39.39.9.59 1.41.59.51 0 1.02-.2 1.41-.59l7.78-7.78 2.81-2.81c.8-.78.8-2.07 0-2.86zM5.41 20L4 18.59l7.72-7.72 1.47 1.35L5.41 20z\"/>\n",
              "  </svg>\n",
              "      </button>\n",
              "      \n",
              "  <style>\n",
              "    .colab-df-container {\n",
              "      display:flex;\n",
              "      flex-wrap:wrap;\n",
              "      gap: 12px;\n",
              "    }\n",
              "\n",
              "    .colab-df-convert {\n",
              "      background-color: #E8F0FE;\n",
              "      border: none;\n",
              "      border-radius: 50%;\n",
              "      cursor: pointer;\n",
              "      display: none;\n",
              "      fill: #1967D2;\n",
              "      height: 32px;\n",
              "      padding: 0 0 0 0;\n",
              "      width: 32px;\n",
              "    }\n",
              "\n",
              "    .colab-df-convert:hover {\n",
              "      background-color: #E2EBFA;\n",
              "      box-shadow: 0px 1px 2px rgba(60, 64, 67, 0.3), 0px 1px 3px 1px rgba(60, 64, 67, 0.15);\n",
              "      fill: #174EA6;\n",
              "    }\n",
              "\n",
              "    [theme=dark] .colab-df-convert {\n",
              "      background-color: #3B4455;\n",
              "      fill: #D2E3FC;\n",
              "    }\n",
              "\n",
              "    [theme=dark] .colab-df-convert:hover {\n",
              "      background-color: #434B5C;\n",
              "      box-shadow: 0px 1px 3px 1px rgba(0, 0, 0, 0.15);\n",
              "      filter: drop-shadow(0px 1px 2px rgba(0, 0, 0, 0.3));\n",
              "      fill: #FFFFFF;\n",
              "    }\n",
              "  </style>\n",
              "\n",
              "      <script>\n",
              "        const buttonEl =\n",
              "          document.querySelector('#df-aa3de6f4-a65a-4b3c-98c2-a3657b976a28 button.colab-df-convert');\n",
              "        buttonEl.style.display =\n",
              "          google.colab.kernel.accessAllowed ? 'block' : 'none';\n",
              "\n",
              "        async function convertToInteractive(key) {\n",
              "          const element = document.querySelector('#df-aa3de6f4-a65a-4b3c-98c2-a3657b976a28');\n",
              "          const dataTable =\n",
              "            await google.colab.kernel.invokeFunction('convertToInteractive',\n",
              "                                                     [key], {});\n",
              "          if (!dataTable) return;\n",
              "\n",
              "          const docLinkHtml = 'Like what you see? Visit the ' +\n",
              "            '<a target=\"_blank\" href=https://colab.research.google.com/notebooks/data_table.ipynb>data table notebook</a>'\n",
              "            + ' to learn more about interactive tables.';\n",
              "          element.innerHTML = '';\n",
              "          dataTable['output_type'] = 'display_data';\n",
              "          await google.colab.output.renderOutput(dataTable, element);\n",
              "          const docLink = document.createElement('div');\n",
              "          docLink.innerHTML = docLinkHtml;\n",
              "          element.appendChild(docLink);\n",
              "        }\n",
              "      </script>\n",
              "    </div>\n",
              "  </div>\n",
              "  "
            ]
          },
          "metadata": {},
          "execution_count": 15
        }
      ]
    },
    {
      "cell_type": "code",
      "source": [
        "df['Position'].value_counts()"
      ],
      "metadata": {
        "colab": {
          "base_uri": "https://localhost:8080/"
        },
        "id": "HugQ_gqsJTNg",
        "outputId": "c58c442b-1027-4fa4-f88d-4cad06ca453b"
      },
      "execution_count": 16,
      "outputs": [
        {
          "output_type": "execute_result",
          "data": {
            "text/plain": [
              "1        1\n",
              "7394     1\n",
              "7386     1\n",
              "7387     1\n",
              "7388     1\n",
              "        ..\n",
              "3696     1\n",
              "3697     1\n",
              "3698     1\n",
              "3699     1\n",
              "11084    1\n",
              "Name: Position, Length: 11084, dtype: int64"
            ]
          },
          "metadata": {},
          "execution_count": 16
        }
      ]
    },
    {
      "cell_type": "markdown",
      "source": [
        "## 1. Which artist has the most songs?\n",
        "to get the Artist with most songs we will use groupby function"
      ],
      "metadata": {
        "id": "cLPdoQqKJ1Rn"
      }
    },
    {
      "cell_type": "code",
      "source": [
        "most_songs_artist = artist_counts.sort_values(\"Position\", ascending=False).head(1)\n",
        "most_songs_artist"
      ],
      "metadata": {
        "colab": {
          "base_uri": "https://localhost:8080/",
          "height": 112
        },
        "id": "tmsY-bOcKZHy",
        "outputId": "44edc1ac-c025-4818-aa3e-7d304a16eba5"
      },
      "execution_count": 90,
      "outputs": [
        {
          "output_type": "execute_result",
          "data": {
            "text/plain": [
              "             Position  Song Name  Days  Top 10 (xTimes)  Peak Position  \\\n",
              "Artist Name                                                              \n",
              "Drake             208        208   208              208            208   \n",
              "\n",
              "             Peak Position (xTimes)  Peak Streams  Total Streams  \n",
              "Artist Name                                                       \n",
              "Drake                           208           208            208  "
            ],
            "text/html": [
              "\n",
              "  <div id=\"df-5db22c72-402c-4807-9b0e-39e127a3012e\">\n",
              "    <div class=\"colab-df-container\">\n",
              "      <div>\n",
              "<style scoped>\n",
              "    .dataframe tbody tr th:only-of-type {\n",
              "        vertical-align: middle;\n",
              "    }\n",
              "\n",
              "    .dataframe tbody tr th {\n",
              "        vertical-align: top;\n",
              "    }\n",
              "\n",
              "    .dataframe thead th {\n",
              "        text-align: right;\n",
              "    }\n",
              "</style>\n",
              "<table border=\"1\" class=\"dataframe\">\n",
              "  <thead>\n",
              "    <tr style=\"text-align: right;\">\n",
              "      <th></th>\n",
              "      <th>Position</th>\n",
              "      <th>Song Name</th>\n",
              "      <th>Days</th>\n",
              "      <th>Top 10 (xTimes)</th>\n",
              "      <th>Peak Position</th>\n",
              "      <th>Peak Position (xTimes)</th>\n",
              "      <th>Peak Streams</th>\n",
              "      <th>Total Streams</th>\n",
              "    </tr>\n",
              "    <tr>\n",
              "      <th>Artist Name</th>\n",
              "      <th></th>\n",
              "      <th></th>\n",
              "      <th></th>\n",
              "      <th></th>\n",
              "      <th></th>\n",
              "      <th></th>\n",
              "      <th></th>\n",
              "      <th></th>\n",
              "    </tr>\n",
              "  </thead>\n",
              "  <tbody>\n",
              "    <tr>\n",
              "      <th>Drake</th>\n",
              "      <td>208</td>\n",
              "      <td>208</td>\n",
              "      <td>208</td>\n",
              "      <td>208</td>\n",
              "      <td>208</td>\n",
              "      <td>208</td>\n",
              "      <td>208</td>\n",
              "      <td>208</td>\n",
              "    </tr>\n",
              "  </tbody>\n",
              "</table>\n",
              "</div>\n",
              "      <button class=\"colab-df-convert\" onclick=\"convertToInteractive('df-5db22c72-402c-4807-9b0e-39e127a3012e')\"\n",
              "              title=\"Convert this dataframe to an interactive table.\"\n",
              "              style=\"display:none;\">\n",
              "        \n",
              "  <svg xmlns=\"http://www.w3.org/2000/svg\" height=\"24px\"viewBox=\"0 0 24 24\"\n",
              "       width=\"24px\">\n",
              "    <path d=\"M0 0h24v24H0V0z\" fill=\"none\"/>\n",
              "    <path d=\"M18.56 5.44l.94 2.06.94-2.06 2.06-.94-2.06-.94-.94-2.06-.94 2.06-2.06.94zm-11 1L8.5 8.5l.94-2.06 2.06-.94-2.06-.94L8.5 2.5l-.94 2.06-2.06.94zm10 10l.94 2.06.94-2.06 2.06-.94-2.06-.94-.94-2.06-.94 2.06-2.06.94z\"/><path d=\"M17.41 7.96l-1.37-1.37c-.4-.4-.92-.59-1.43-.59-.52 0-1.04.2-1.43.59L10.3 9.45l-7.72 7.72c-.78.78-.78 2.05 0 2.83L4 21.41c.39.39.9.59 1.41.59.51 0 1.02-.2 1.41-.59l7.78-7.78 2.81-2.81c.8-.78.8-2.07 0-2.86zM5.41 20L4 18.59l7.72-7.72 1.47 1.35L5.41 20z\"/>\n",
              "  </svg>\n",
              "      </button>\n",
              "      \n",
              "  <style>\n",
              "    .colab-df-container {\n",
              "      display:flex;\n",
              "      flex-wrap:wrap;\n",
              "      gap: 12px;\n",
              "    }\n",
              "\n",
              "    .colab-df-convert {\n",
              "      background-color: #E8F0FE;\n",
              "      border: none;\n",
              "      border-radius: 50%;\n",
              "      cursor: pointer;\n",
              "      display: none;\n",
              "      fill: #1967D2;\n",
              "      height: 32px;\n",
              "      padding: 0 0 0 0;\n",
              "      width: 32px;\n",
              "    }\n",
              "\n",
              "    .colab-df-convert:hover {\n",
              "      background-color: #E2EBFA;\n",
              "      box-shadow: 0px 1px 2px rgba(60, 64, 67, 0.3), 0px 1px 3px 1px rgba(60, 64, 67, 0.15);\n",
              "      fill: #174EA6;\n",
              "    }\n",
              "\n",
              "    [theme=dark] .colab-df-convert {\n",
              "      background-color: #3B4455;\n",
              "      fill: #D2E3FC;\n",
              "    }\n",
              "\n",
              "    [theme=dark] .colab-df-convert:hover {\n",
              "      background-color: #434B5C;\n",
              "      box-shadow: 0px 1px 3px 1px rgba(0, 0, 0, 0.15);\n",
              "      filter: drop-shadow(0px 1px 2px rgba(0, 0, 0, 0.3));\n",
              "      fill: #FFFFFF;\n",
              "    }\n",
              "  </style>\n",
              "\n",
              "      <script>\n",
              "        const buttonEl =\n",
              "          document.querySelector('#df-5db22c72-402c-4807-9b0e-39e127a3012e button.colab-df-convert');\n",
              "        buttonEl.style.display =\n",
              "          google.colab.kernel.accessAllowed ? 'block' : 'none';\n",
              "\n",
              "        async function convertToInteractive(key) {\n",
              "          const element = document.querySelector('#df-5db22c72-402c-4807-9b0e-39e127a3012e');\n",
              "          const dataTable =\n",
              "            await google.colab.kernel.invokeFunction('convertToInteractive',\n",
              "                                                     [key], {});\n",
              "          if (!dataTable) return;\n",
              "\n",
              "          const docLinkHtml = 'Like what you see? Visit the ' +\n",
              "            '<a target=\"_blank\" href=https://colab.research.google.com/notebooks/data_table.ipynb>data table notebook</a>'\n",
              "            + ' to learn more about interactive tables.';\n",
              "          element.innerHTML = '';\n",
              "          dataTable['output_type'] = 'display_data';\n",
              "          await google.colab.output.renderOutput(dataTable, element);\n",
              "          const docLink = document.createElement('div');\n",
              "          docLink.innerHTML = docLinkHtml;\n",
              "          element.appendChild(docLink);\n",
              "        }\n",
              "      </script>\n",
              "    </div>\n",
              "  </div>\n",
              "  "
            ]
          },
          "metadata": {},
          "execution_count": 90
        }
      ]
    },
    {
      "cell_type": "markdown",
      "source": [
        "## 2.Who are the Top 10 Artists?"
      ],
      "metadata": {
        "id": "T8xjF3K227X3"
      }
    },
    {
      "cell_type": "code",
      "source": [
        "# top 10 most_songs_artist\n",
        "most_songs_artist = artist_counts.sort_values(\"Position\", ascending=False).head(10)\n",
        "most_songs_artist"
      ],
      "metadata": {
        "colab": {
          "base_uri": "https://localhost:8080/",
          "height": 394
        },
        "id": "9heoPvYzK0fi",
        "outputId": "a71cf518-154e-4f0a-af96-0c098e0cc359"
      },
      "execution_count": 20,
      "outputs": [
        {
          "output_type": "execute_result",
          "data": {
            "text/plain": [
              "                             Position  Song Name  Days  Top 10 (xTimes)  \\\n",
              "Artist Name                                                               \n",
              "Drake                             208        208   208              208   \n",
              "Future                            190        190   190              190   \n",
              "Taylor Swift                      172        172   172              172   \n",
              "Logic                             120        120   120              120   \n",
              "Trippie Redd                      114        114   114              114   \n",
              "Lil Baby                          105        105   105              105   \n",
              "Kanye West                         91         91    91               91   \n",
              "Juice WRLD                         91         91    91               91   \n",
              "The Weeknd                         90         90    90               90   \n",
              "YoungBoy Never Broke Again         89         89    89               89   \n",
              "\n",
              "                             Peak Position  Peak Position (xTimes)  \\\n",
              "Artist Name                                                          \n",
              "Drake                                  208                     208   \n",
              "Future                                 190                     190   \n",
              "Taylor Swift                           172                     172   \n",
              "Logic                                  120                     120   \n",
              "Trippie Redd                           114                     114   \n",
              "Lil Baby                               105                     105   \n",
              "Kanye West                              91                      91   \n",
              "Juice WRLD                              91                      91   \n",
              "The Weeknd                              90                      90   \n",
              "YoungBoy Never Broke Again              89                      89   \n",
              "\n",
              "                             Peak Streams  Total Streams  \n",
              "Artist Name                                               \n",
              "Drake                                 208            208  \n",
              "Future                                190            190  \n",
              "Taylor Swift                          172            172  \n",
              "Logic                                 120            120  \n",
              "Trippie Redd                          114            114  \n",
              "Lil Baby                              105            105  \n",
              "Kanye West                             91             91  \n",
              "Juice WRLD                             91             91  \n",
              "The Weeknd                             90             90  \n",
              "YoungBoy Never Broke Again             89             89  "
            ],
            "text/html": [
              "\n",
              "  <div id=\"df-80c28306-f5e6-4039-8f7d-0d61e9071e4a\">\n",
              "    <div class=\"colab-df-container\">\n",
              "      <div>\n",
              "<style scoped>\n",
              "    .dataframe tbody tr th:only-of-type {\n",
              "        vertical-align: middle;\n",
              "    }\n",
              "\n",
              "    .dataframe tbody tr th {\n",
              "        vertical-align: top;\n",
              "    }\n",
              "\n",
              "    .dataframe thead th {\n",
              "        text-align: right;\n",
              "    }\n",
              "</style>\n",
              "<table border=\"1\" class=\"dataframe\">\n",
              "  <thead>\n",
              "    <tr style=\"text-align: right;\">\n",
              "      <th></th>\n",
              "      <th>Position</th>\n",
              "      <th>Song Name</th>\n",
              "      <th>Days</th>\n",
              "      <th>Top 10 (xTimes)</th>\n",
              "      <th>Peak Position</th>\n",
              "      <th>Peak Position (xTimes)</th>\n",
              "      <th>Peak Streams</th>\n",
              "      <th>Total Streams</th>\n",
              "    </tr>\n",
              "    <tr>\n",
              "      <th>Artist Name</th>\n",
              "      <th></th>\n",
              "      <th></th>\n",
              "      <th></th>\n",
              "      <th></th>\n",
              "      <th></th>\n",
              "      <th></th>\n",
              "      <th></th>\n",
              "      <th></th>\n",
              "    </tr>\n",
              "  </thead>\n",
              "  <tbody>\n",
              "    <tr>\n",
              "      <th>Drake</th>\n",
              "      <td>208</td>\n",
              "      <td>208</td>\n",
              "      <td>208</td>\n",
              "      <td>208</td>\n",
              "      <td>208</td>\n",
              "      <td>208</td>\n",
              "      <td>208</td>\n",
              "      <td>208</td>\n",
              "    </tr>\n",
              "    <tr>\n",
              "      <th>Future</th>\n",
              "      <td>190</td>\n",
              "      <td>190</td>\n",
              "      <td>190</td>\n",
              "      <td>190</td>\n",
              "      <td>190</td>\n",
              "      <td>190</td>\n",
              "      <td>190</td>\n",
              "      <td>190</td>\n",
              "    </tr>\n",
              "    <tr>\n",
              "      <th>Taylor Swift</th>\n",
              "      <td>172</td>\n",
              "      <td>172</td>\n",
              "      <td>172</td>\n",
              "      <td>172</td>\n",
              "      <td>172</td>\n",
              "      <td>172</td>\n",
              "      <td>172</td>\n",
              "      <td>172</td>\n",
              "    </tr>\n",
              "    <tr>\n",
              "      <th>Logic</th>\n",
              "      <td>120</td>\n",
              "      <td>120</td>\n",
              "      <td>120</td>\n",
              "      <td>120</td>\n",
              "      <td>120</td>\n",
              "      <td>120</td>\n",
              "      <td>120</td>\n",
              "      <td>120</td>\n",
              "    </tr>\n",
              "    <tr>\n",
              "      <th>Trippie Redd</th>\n",
              "      <td>114</td>\n",
              "      <td>114</td>\n",
              "      <td>114</td>\n",
              "      <td>114</td>\n",
              "      <td>114</td>\n",
              "      <td>114</td>\n",
              "      <td>114</td>\n",
              "      <td>114</td>\n",
              "    </tr>\n",
              "    <tr>\n",
              "      <th>Lil Baby</th>\n",
              "      <td>105</td>\n",
              "      <td>105</td>\n",
              "      <td>105</td>\n",
              "      <td>105</td>\n",
              "      <td>105</td>\n",
              "      <td>105</td>\n",
              "      <td>105</td>\n",
              "      <td>105</td>\n",
              "    </tr>\n",
              "    <tr>\n",
              "      <th>Kanye West</th>\n",
              "      <td>91</td>\n",
              "      <td>91</td>\n",
              "      <td>91</td>\n",
              "      <td>91</td>\n",
              "      <td>91</td>\n",
              "      <td>91</td>\n",
              "      <td>91</td>\n",
              "      <td>91</td>\n",
              "    </tr>\n",
              "    <tr>\n",
              "      <th>Juice WRLD</th>\n",
              "      <td>91</td>\n",
              "      <td>91</td>\n",
              "      <td>91</td>\n",
              "      <td>91</td>\n",
              "      <td>91</td>\n",
              "      <td>91</td>\n",
              "      <td>91</td>\n",
              "      <td>91</td>\n",
              "    </tr>\n",
              "    <tr>\n",
              "      <th>The Weeknd</th>\n",
              "      <td>90</td>\n",
              "      <td>90</td>\n",
              "      <td>90</td>\n",
              "      <td>90</td>\n",
              "      <td>90</td>\n",
              "      <td>90</td>\n",
              "      <td>90</td>\n",
              "      <td>90</td>\n",
              "    </tr>\n",
              "    <tr>\n",
              "      <th>YoungBoy Never Broke Again</th>\n",
              "      <td>89</td>\n",
              "      <td>89</td>\n",
              "      <td>89</td>\n",
              "      <td>89</td>\n",
              "      <td>89</td>\n",
              "      <td>89</td>\n",
              "      <td>89</td>\n",
              "      <td>89</td>\n",
              "    </tr>\n",
              "  </tbody>\n",
              "</table>\n",
              "</div>\n",
              "      <button class=\"colab-df-convert\" onclick=\"convertToInteractive('df-80c28306-f5e6-4039-8f7d-0d61e9071e4a')\"\n",
              "              title=\"Convert this dataframe to an interactive table.\"\n",
              "              style=\"display:none;\">\n",
              "        \n",
              "  <svg xmlns=\"http://www.w3.org/2000/svg\" height=\"24px\"viewBox=\"0 0 24 24\"\n",
              "       width=\"24px\">\n",
              "    <path d=\"M0 0h24v24H0V0z\" fill=\"none\"/>\n",
              "    <path d=\"M18.56 5.44l.94 2.06.94-2.06 2.06-.94-2.06-.94-.94-2.06-.94 2.06-2.06.94zm-11 1L8.5 8.5l.94-2.06 2.06-.94-2.06-.94L8.5 2.5l-.94 2.06-2.06.94zm10 10l.94 2.06.94-2.06 2.06-.94-2.06-.94-.94-2.06-.94 2.06-2.06.94z\"/><path d=\"M17.41 7.96l-1.37-1.37c-.4-.4-.92-.59-1.43-.59-.52 0-1.04.2-1.43.59L10.3 9.45l-7.72 7.72c-.78.78-.78 2.05 0 2.83L4 21.41c.39.39.9.59 1.41.59.51 0 1.02-.2 1.41-.59l7.78-7.78 2.81-2.81c.8-.78.8-2.07 0-2.86zM5.41 20L4 18.59l7.72-7.72 1.47 1.35L5.41 20z\"/>\n",
              "  </svg>\n",
              "      </button>\n",
              "      \n",
              "  <style>\n",
              "    .colab-df-container {\n",
              "      display:flex;\n",
              "      flex-wrap:wrap;\n",
              "      gap: 12px;\n",
              "    }\n",
              "\n",
              "    .colab-df-convert {\n",
              "      background-color: #E8F0FE;\n",
              "      border: none;\n",
              "      border-radius: 50%;\n",
              "      cursor: pointer;\n",
              "      display: none;\n",
              "      fill: #1967D2;\n",
              "      height: 32px;\n",
              "      padding: 0 0 0 0;\n",
              "      width: 32px;\n",
              "    }\n",
              "\n",
              "    .colab-df-convert:hover {\n",
              "      background-color: #E2EBFA;\n",
              "      box-shadow: 0px 1px 2px rgba(60, 64, 67, 0.3), 0px 1px 3px 1px rgba(60, 64, 67, 0.15);\n",
              "      fill: #174EA6;\n",
              "    }\n",
              "\n",
              "    [theme=dark] .colab-df-convert {\n",
              "      background-color: #3B4455;\n",
              "      fill: #D2E3FC;\n",
              "    }\n",
              "\n",
              "    [theme=dark] .colab-df-convert:hover {\n",
              "      background-color: #434B5C;\n",
              "      box-shadow: 0px 1px 3px 1px rgba(0, 0, 0, 0.15);\n",
              "      filter: drop-shadow(0px 1px 2px rgba(0, 0, 0, 0.3));\n",
              "      fill: #FFFFFF;\n",
              "    }\n",
              "  </style>\n",
              "\n",
              "      <script>\n",
              "        const buttonEl =\n",
              "          document.querySelector('#df-80c28306-f5e6-4039-8f7d-0d61e9071e4a button.colab-df-convert');\n",
              "        buttonEl.style.display =\n",
              "          google.colab.kernel.accessAllowed ? 'block' : 'none';\n",
              "\n",
              "        async function convertToInteractive(key) {\n",
              "          const element = document.querySelector('#df-80c28306-f5e6-4039-8f7d-0d61e9071e4a');\n",
              "          const dataTable =\n",
              "            await google.colab.kernel.invokeFunction('convertToInteractive',\n",
              "                                                     [key], {});\n",
              "          if (!dataTable) return;\n",
              "\n",
              "          const docLinkHtml = 'Like what you see? Visit the ' +\n",
              "            '<a target=\"_blank\" href=https://colab.research.google.com/notebooks/data_table.ipynb>data table notebook</a>'\n",
              "            + ' to learn more about interactive tables.';\n",
              "          element.innerHTML = '';\n",
              "          dataTable['output_type'] = 'display_data';\n",
              "          await google.colab.output.renderOutput(dataTable, element);\n",
              "          const docLink = document.createElement('div');\n",
              "          docLink.innerHTML = docLinkHtml;\n",
              "          element.appendChild(docLink);\n",
              "        }\n",
              "      </script>\n",
              "    </div>\n",
              "  </div>\n",
              "  "
            ]
          },
          "metadata": {},
          "execution_count": 20
        }
      ]
    },
    {
      "cell_type": "code",
      "source": [
        "max_streams = df['Peak Streams'].max()\n",
        "max_streams"
      ],
      "metadata": {
        "colab": {
          "base_uri": "https://localhost:8080/"
        },
        "id": "yLNIvOJGLMN2",
        "outputId": "ef7e75fe-c8de-45ad-f10e-13c1608c742c"
      },
      "execution_count": 21,
      "outputs": [
        {
          "output_type": "execute_result",
          "data": {
            "text/plain": [
              "7786096"
            ]
          },
          "metadata": {},
          "execution_count": 21
        }
      ]
    },
    {
      "cell_type": "markdown",
      "source": [
        "## 3.What is the median number of streams among the songs in the dataset?"
      ],
      "metadata": {
        "id": "HV1gF3e5Lj1W"
      }
    },
    {
      "cell_type": "code",
      "source": [
        "median_streams = df['Peak Streams'].median()\n",
        "print(median_streams)"
      ],
      "metadata": {
        "colab": {
          "base_uri": "https://localhost:8080/"
        },
        "id": "xSpOqJmYOpKR",
        "outputId": "e15c1ebd-98a0-4296-ccc9-8afb40169c82"
      },
      "execution_count": 22,
      "outputs": [
        {
          "output_type": "stream",
          "name": "stdout",
          "text": [
            "350588.5\n"
          ]
        }
      ]
    },
    {
      "cell_type": "code",
      "source": [
        "# Create a box plot of the 'Streams' column\n",
        "df.boxplot(column='Peak Streams', vert=True,figsize=(10,8))\n",
        "plt.show()"
      ],
      "metadata": {
        "colab": {
          "base_uri": "https://localhost:8080/",
          "height": 494
        },
        "id": "eDMN6xwgO7ot",
        "outputId": "988d6c8b-20cc-434b-c24b-8f8a1917f9c8"
      },
      "execution_count": 66,
      "outputs": [
        {
          "output_type": "display_data",
          "data": {
            "text/plain": [
              "<Figure size 720x576 with 1 Axes>"
            ],
            "image/png": "[encoded data removed]"
          },
          "metadata": {
            "needs_background": "light"
          }
        }
      ]
    },
    {
      "cell_type": "markdown",
      "source": [
        "\n",
        "## 4. What is the maximum and minimum duration of songs in the dataset?"
      ],
      "metadata": {
        "id": "V5aprw8sPLGR"
      }
    },
    {
      "cell_type": "code",
      "source": [
        "print(df['Peak Streams'].max())\n",
        "print(df['Peak Streams'].min())"
      ],
      "metadata": {
        "colab": {
          "base_uri": "https://localhost:8080/"
        },
        "id": "3XW_WVZWLhOv",
        "outputId": "24b81bd4-34a5-4c15-b817-c18aba6d306a"
      },
      "execution_count": 24,
      "outputs": [
        {
          "output_type": "stream",
          "name": "stdout",
          "text": [
            "7786096\n",
            "44323\n"
          ]
        }
      ]
    },
    {
      "cell_type": "markdown",
      "source": [
        "## 5. What was the most popular song on Spotify based on its peak position?"
      ],
      "metadata": {
        "id": "EuJ2mwyGR3dE"
      }
    },
    {
      "cell_type": "code",
      "source": [
        "most_popular_song = df.loc[df['Peak Position'].idxmin(), 'Song Name']\n",
        "print(\"The most popular song on Spotify based on its peak position was:\", most_popular_song)\n"
      ],
      "metadata": {
        "id": "DXrBJk2wVkhf",
        "colab": {
          "base_uri": "https://localhost:8080/"
        },
        "outputId": "ae2d8a65-41ca-447a-abae-33684bd56ec4"
      },
      "execution_count": 25,
      "outputs": [
        {
          "output_type": "stream",
          "name": "stdout",
          "text": [
            "The most popular song on Spotify based on its peak position was: Sunflower  SpiderMan: Into the SpiderVerse\n"
          ]
        }
      ]
    },
    {
      "cell_type": "markdown",
      "source": [
        "## 6. How many songs were in the top 10 of Spotify's charts?"
      ],
      "metadata": {
        "id": "HeE8QYTCR9Oc"
      }
    },
    {
      "cell_type": "code",
      "source": [
        "num_songs_in_top_10 = len(df[df['Top 10 (xTimes)'] > 0])\n",
        "print(\"The number of songs in the top 10 of Spotify's charts was:\", num_songs_in_top_10)\n"
      ],
      "metadata": {
        "colab": {
          "base_uri": "https://localhost:8080/"
        },
        "id": "ZGZaILbLSKLY",
        "outputId": "561d7ffe-c0af-43bb-e688-f2b779b789cd"
      },
      "execution_count": 26,
      "outputs": [
        {
          "output_type": "stream",
          "name": "stdout",
          "text": [
            "The number of songs in the top 10 of Spotify's charts was: 1230\n"
          ]
        }
      ]
    },
    {
      "cell_type": "markdown",
      "source": [
        "## 7. What was the average number of days a song spent in the top 10?"
      ],
      "metadata": {
        "id": "YaS9VLMpSdpF"
      }
    },
    {
      "cell_type": "code",
      "source": [
        "average_days_in_top_10 = df[df['Top 10 (xTimes)'] > 0]['Days'].mean()\n",
        "print(\"The average number of days a song spent in the top 10 was:\", average_days_in_top_10)\n"
      ],
      "metadata": {
        "colab": {
          "base_uri": "https://localhost:8080/"
        },
        "id": "uRa2E2CySfEb",
        "outputId": "5b53c6f0-d547-40ab-d4ea-4e472e765c38"
      },
      "execution_count": 27,
      "outputs": [
        {
          "output_type": "stream",
          "name": "stdout",
          "text": [
            "The average number of days a song spent in the top 10 was: 209.35691056910568\n"
          ]
        }
      ]
    },
    {
      "cell_type": "code",
      "source": [
        "# Let\"s plot a Histogram for the above data \n",
        "\n",
        "days_in_top_10 = df[df['Top 10 (xTimes)'] > 0]['Days']\n",
        "plt.figure(figsize=(10,10))\n",
        "plt.hist(days_in_top_10, bins=10, edgecolor='yellow')\n",
        "plt.xlabel('Days in Top 10')\n",
        "plt.ylabel('Frequency')\n",
        "plt.title('Distribution of Days in Top 10')\n",
        "plt.show()\n"
      ],
      "metadata": {
        "colab": {
          "base_uri": "https://localhost:8080/",
          "height": 621
        },
        "id": "SqBvMhBCSZFc",
        "outputId": "b44d48e7-fdbd-492a-cd13-70ee7751c40c"
      },
      "execution_count": 28,
      "outputs": [
        {
          "output_type": "display_data",
          "data": {
            "text/plain": [
              "<Figure size 720x720 with 1 Axes>"
            ],
            "image/png": "[encoded data removed]"
          },
          "metadata": {
            "needs_background": "light"
          }
        }
      ]
    },
    {
      "cell_type": "markdown",
      "source": [
        "## 8. Was there a correlation between the number of days a song was in the top 10 and its peak position?"
      ],
      "metadata": {
        "id": "7gcPqFqjTiLo"
      }
    },
    {
      "cell_type": "code",
      "source": [
        "\n",
        "df_top_10 = df[df['Top 10 (xTimes)'] > 0]\n",
        "plt.figure(figsize=(10,10))\n",
        "plt.scatter(df_top_10['Days'], df_top_10['Peak Position'],cmap='Red')\n",
        "plt.xlabel('Days in Top 10')\n",
        "plt.ylabel('Peak Position')\n",
        "plt.title('Correlation between Days in Top 10 and Peak Position')\n",
        "plt.show()\n"
      ],
      "metadata": {
        "colab": {
          "base_uri": "https://localhost:8080/",
          "height": 621
        },
        "id": "G4O5CgZ0UrGn",
        "outputId": "f59c2264-5295-4848-99c7-ff4972cf1922"
      },
      "execution_count": 29,
      "outputs": [
        {
          "output_type": "display_data",
          "data": {
            "text/plain": [
              "<Figure size 720x720 with 1 Axes>"
            ],
            "image/png": "[encoded data removed]"
          },
          "metadata": {
            "needs_background": "light"
          }
        }
      ]
    },
    {
      "cell_type": "markdown",
      "source": [
        "## 9. Who was the most successful artist on Spotify based on the number of songs in the top 10?"
      ],
      "metadata": {
        "id": "yOrTdIYfVoFS"
      }
    },
    {
      "cell_type": "code",
      "source": [
        "grouped = df.groupby('Artist Name').sum()\n",
        "grouped = grouped.sort_values(by='Top 10 (xTimes)', ascending=False)\n",
        "top_10_artists = grouped.head(10)\n",
        "print(\"The top 10 most successful artists on Spotify based on the number of songs in the top 10 were:\")\n",
        "print(top_10_artists.index.tolist())\n",
        "\n"
      ],
      "metadata": {
        "colab": {
          "base_uri": "https://localhost:8080/"
        },
        "id": "EKqnx828VpU2",
        "outputId": "2b1e65bf-1f48-45e8-8cc8-9aec513655e8"
      },
      "execution_count": 30,
      "outputs": [
        {
          "output_type": "stream",
          "name": "stdout",
          "text": [
            "The top 10 most successful artists on Spotify based on the number of songs in the top 10 were:\n",
            "['Drake ', 'Post Malone ', 'The Weeknd ', 'Ariana Grande ', 'Justin Bieber ', 'Lil Nas X ', 'Juice WRLD ', 'Taylor Swift ', 'Olivia Rodrigo ', 'The Chainsmokers ']\n"
          ]
        }
      ]
    },
    {
      "cell_type": "code",
      "source": [
        "# Plotting the bar graph\n",
        "top_10_artists['Top 10 (xTimes)'].plot(kind='bar',figsize=(10,10),cmap=\"summer\")\n",
        "\n",
        "plt.xlabel('Artist Name')\n",
        "plt.ylabel('Number of Songs in Top 10')\n",
        "plt.title('Top 10 Most Successful Artists on Spotify')\n",
        "plt.xticks(rotation=45)\n",
        "plt.show()\n"
      ],
      "metadata": {
        "colab": {
          "base_uri": "https://localhost:8080/",
          "height": 686
        },
        "id": "cVssBmVOXqXD",
        "outputId": "c5f1f49a-3e23-4534-a1f2-a9a1bf1084cb"
      },
      "execution_count": 81,
      "outputs": [
        {
          "output_type": "display_data",
          "data": {
            "text/plain": [
              "<Figure size 720x720 with 1 Axes>"
            ],
            "image/png": "[encoded data removed]"
          },
          "metadata": {
            "needs_background": "light"
          }
        }
      ]
    },
    {
      "cell_type": "markdown",
      "source": [
        "## 10. How many songs did each artist have in the top 10 of Spotify's charts?"
      ],
      "metadata": {
        "id": "aNOGv-EjYpPo"
      }
    },
    {
      "cell_type": "code",
      "source": [
        "grouped = df.groupby('Artist Name').sum()\n",
        "grouped = grouped.sort_values(by='Top 10 (xTimes)', ascending=False)\n",
        "songs_in_top_10 = grouped['Top 10 (xTimes)']\n",
        "print(\"The number of songs each artist had in the top 10 of Spotify's charts:\")\n",
        "print(songs_in_top_10)\n"
      ],
      "metadata": {
        "colab": {
          "base_uri": "https://localhost:8080/"
        },
        "id": "EJvv4lbhYtil",
        "outputId": "c6933ae0-20aa-4677-cf4d-c4cb19741521"
      },
      "execution_count": 32,
      "outputs": [
        {
          "output_type": "stream",
          "name": "stdout",
          "text": [
            "The number of songs each artist had in the top 10 of Spotify's charts:\n",
            "Artist Name\n",
            "Drake             2364.0\n",
            "Post Malone       1706.0\n",
            "The Weeknd        1157.0\n",
            "Ariana Grande      769.0\n",
            "Justin Bieber      675.0\n",
            "                   ...  \n",
            "Hudson Thames        0.0\n",
            "Huddy                0.0\n",
            "House Of Pain        0.0\n",
            "Hotel Ugly           0.0\n",
            "Ñengo Flow           0.0\n",
            "Name: Top 10 (xTimes), Length: 1612, dtype: float64\n"
          ]
        }
      ]
    },
    {
      "cell_type": "markdown",
      "source": [
        "## 12. Did the number of streams for a song in the top 10 increase over time?"
      ],
      "metadata": {
        "id": "Ja0v1qpLhnF2"
      }
    },
    {
      "cell_type": "code",
      "source": [
        "top_10_songs = df[df['Top 10 (xTimes)'] > 0]\n",
        "\n",
        "# Grouping the data by the number of days a song spent in the top 10\n",
        "grouped = top_10_songs.groupby('Days')\n",
        "\n",
        "# Calculating the average number of streams for each group\n",
        "average_streams = grouped['Total Streams'].mean()\n"
      ],
      "metadata": {
        "id": "a-VpCkV5hIkv"
      },
      "execution_count": 58,
      "outputs": []
    },
    {
      "cell_type": "code",
      "source": [
        "# Plotting the average number of streams over time\n",
        "average_streams.plot(figsize=(10,8),color=\"red\")\n",
        "plt.xlabel('Days in Top 10')\n",
        "plt.ylabel('Average Streams')\n",
        "plt.title('Average Streams for Songs in Top 10 over Time')\n",
        "plt.show()\n"
      ],
      "metadata": {
        "colab": {
          "base_uri": "https://localhost:8080/",
          "height": 513
        },
        "id": "Un6XJ983hVSm",
        "outputId": "6761e4b0-8d7d-4113-df5d-093c2216062f"
      },
      "execution_count": 73,
      "outputs": [
        {
          "output_type": "display_data",
          "data": {
            "text/plain": [
              "<Figure size 720x576 with 1 Axes>"
            ],
            "image/png": "[encoded data removed]"
          },
          "metadata": {
            "needs_background": "light"
          }
        }
      ]
    },
    {
      "cell_type": "markdown",
      "source": [
        "## 13. How did the number of streams for songs in the top 10 compare to the number of streams for songs that were not in the top 10?"
      ],
      "metadata": {
        "id": "xobkdI9ossov"
      }
    },
    {
      "cell_type": "code",
      "source": [
        "# Filtering the songs to only include songs that were in the top 10\n",
        "top_10_songs = df[df['Top 10 (xTimes)'] > 0]\n",
        "# Filtering the songs to only include songs that were not in the top 10\n",
        "not_top_10_songs = df[df['Top 10 (xTimes)'] == 0]\n",
        "\n",
        "# Calculating the total number of streams for each set of songs\n",
        "top_10_streams = top_10_songs['Total Streams'].sum()\n",
        "not_top_10_streams = not_top_10_songs['Total Streams'].sum()\n",
        "\n",
        "print(top_10_streams)\n",
        "not_top_10_streams"
      ],
      "metadata": {
        "colab": {
          "base_uri": "https://localhost:8080/"
        },
        "id": "X8GXwrgUsWqv",
        "outputId": "6f0dfa0f-8c7a-485a-a359-ed547c531310"
      },
      "execution_count": 49,
      "outputs": [
        {
          "output_type": "stream",
          "name": "stdout",
          "text": [
            "114646494204\n"
          ]
        },
        {
          "output_type": "execute_result",
          "data": {
            "text/plain": [
              "88289471876"
            ]
          },
          "metadata": {},
          "execution_count": 49
        }
      ]
    },
    {
      "cell_type": "code",
      "source": [
        "# Plotting the Comparison by Pie cahrt for better understanding \n",
        "dig,pie_chart= plt.subplots(figsize=(10,8))\n",
        "sizes = [top_10_streams, not_top_10_streams], \n",
        "pie_chart.pie(sizes,labels=['Top 10 Songs', 'Not Top 10 Songs'], colors=['salmon','royalblue'], autopct='%1.1f%%', startangle=90)\n",
        "pie_chart.axis('equal')  # Equal aspect ratio ensures that pie is drawn as a circle\n",
        "plt.title('Percentage of Total Streams for Songs in Top 10 and Not in Top 10')\n",
        "plt.show()\n"
      ],
      "metadata": {
        "colab": {
          "base_uri": "https://localhost:8080/",
          "height": 537
        },
        "id": "zTJUi9VUt6Sb",
        "outputId": "5280e29a-9620-4483-a57d-85358984175c"
      },
      "execution_count": 109,
      "outputs": [
        {
          "output_type": "stream",
          "name": "stderr",
          "text": [
            "<ipython-input-109-ddd900f97468>:4: MatplotlibDeprecationWarning: Non-1D inputs to pie() are currently squeeze()d, but this behavior is deprecated since 3.1 and will be removed in 3.3; pass a 1D array instead.\n",
            "  pie_chart.pie(sizes,labels=['Top 10 Songs', 'Not Top 10 Songs'], colors=['salmon','royalblue'], autopct='%1.1f%%', startangle=90)\n"
          ]
        },
        {
          "output_type": "display_data",
          "data": {
            "text/plain": [
              "<Figure size 720x576 with 1 Axes>"
            ],
            "image/png": "[encoded data removed]"
          },
          "metadata": {}
        }
      ]
    },
    {
      "cell_type": "markdown",
      "source": [
        "## 14.Did the songs that had the most success on the charts also have the most streams?"
      ],
      "metadata": {
        "id": "r9YLM26W5jC0"
      }
    },
    {
      "cell_type": "code",
      "source": [
        "# Grouping the data by Song Name and find the sum of each song's streams\n",
        "grouped = df.groupby('Song Name').sum()\n",
        "\n",
        "# Sorting the data by Peak Position in ascending order (1 is the highest position)\n",
        "grouped = grouped.sort_values(by='Peak Position')\n",
        "\n",
        "# Finding the songs with the highest peak position and the highest total streams\n",
        "most_successful_songs = grouped.sort_values(by='Peak Position', ascending=False).head(10)\n",
        "most_streamed_songs = grouped.sort_values(by='Total Streams', ascending=False).head(10)\n",
        "\n",
        "# Comparing the most successful songs to the most streamed songs\n",
        "print(\"Songs with the most success on the charts:\")\n",
        "print(most_successful_songs[['Peak Position', 'Total Streams']])\n",
        "print(\"\\nSongs with the most streams:\")\n",
        "print(most_streamed_songs[['Peak Position', 'Total Streams']])\n"
      ],
      "metadata": {
        "id": "p8OPOLWNXTrX",
        "colab": {
          "base_uri": "https://localhost:8080/"
        },
        "outputId": "0d4b3e7e-ca0c-465b-ec0d-29e014206498"
      },
      "execution_count": 110,
      "outputs": [
        {
          "output_type": "stream",
          "name": "stdout",
          "text": [
            "Songs with the most success on the charts:\n",
            "              Peak Position  Total Streams\n",
            "Song Name                                 \n",
            "Intro                   923       26931267\n",
            "Higher                  766        7647473\n",
            "Forever                 729       52278462\n",
            "Nobody                  664        1692903\n",
            "Silent Night            622        9900366\n",
            "Alone                   616       10470171\n",
            "Silver Bells            594       36732615\n",
            "Dreams                  573        2950976\n",
            "Up                      572      177775030\n",
            "Sorry                   564      232982056\n",
            "\n",
            "Songs with the most streams:\n",
            "                                            Peak Position  Total Streams\n",
            "Song Name                                                               \n",
            "Sunflower  SpiderMan: Into the SpiderVerse              1      883369738\n",
            "Lucid Dreams                                          188      865035293\n",
            "XO TOUR Llif3                                           1      781153024\n",
            "Stay                                                  234      743099807\n",
            "No Role Modelz                                          7      734857487\n",
            "rockstar                                                1      718865961\n",
            "goosebumps                                              8      672972704\n",
            "Blinding Lights                                       119      644873857\n",
            "Jocelyn Flores                                          2      624457164\n",
            "SAD!                                                    1      619879245\n"
          ]
        }
      ]
    },
    {
      "cell_type": "code",
      "source": [
        "# Plot a regression plot of the relationship between Peak Position and Total Streams\n",
        "\n",
        "plt.figure(figsize=(15,10))\n",
        "sns.regplot(x='Peak Position', y='Total Streams', data=df,color=\"red\")\n",
        "plt.xlabel('Peak Position')\n",
        "plt.ylabel('Total Streams')\n",
        "plt.title('Regression Plot of Peak Position vs Total Streams')\n",
        "plt.show()\n"
      ],
      "metadata": {
        "colab": {
          "base_uri": "https://localhost:8080/",
          "height": 621
        },
        "id": "Rsc_L4RT8RnS",
        "outputId": "f4ceddc3-ccdd-4df3-891f-10c475a4b5fe"
      },
      "execution_count": 129,
      "outputs": [
        {
          "output_type": "display_data",
          "data": {
            "text/plain": [
              "<Figure size 1080x720 with 1 Axes>"
            ],
            "image/png": "[encoded data removed]"
          },
          "metadata": {
            "needs_background": "light"
          }
        }
      ]
    },
    {
      "cell_type": "code",
      "source": [],
      "metadata": {
        "id": "dFoKeG-89aKB"
      },
      "execution_count": null,
      "outputs": []
    },
    {
      "cell_type": "markdown",
      "source": [
        "## 15. Is there a correlation between the artist's popularity (based on the number of songs they have in the top 10) and the average total streams of their songs also show correlation between total streams."
      ],
      "metadata": {
        "id": "0NEyC0eu_MWS"
      }
    },
    {
      "cell_type": "code",
      "source": [
        "# calculating the average total streams of songs for each artist\n",
        "grouped = df.groupby('Artist Name').mean()\n",
        "grouped = grouped.sort_values(by='Top 10 (xTimes)', ascending=False)\n",
        "average_streams = grouped['Total Streams']\n",
        "\n",
        "# creating a dataframe with the number of songs each artist had in the top 10 and the average total streams of their songs\n",
        "artist_popularity = pd.DataFrame({'Songs in Top 10': songs_in_top_10, 'Average Streams': average_streams})\n",
        "\n",
        "# with the help of  heatmap we will visualize the correlation between the artist's popularity and the average total streams of their songs\n",
        "plt.figure(figsize=(10,10))\n",
        "sns.heatmap(artist_popularity.corr(), annot=True)\n",
        "plt.xlabel('Artist Popularity')\n",
        "plt.ylabel('Average Total Streams')\n",
        "plt.title('Correlation Heatmap of Artist Popularity and Average Total Streams')\n",
        "plt.show()\n"
      ],
      "metadata": {
        "colab": {
          "base_uri": "https://localhost:8080/",
          "height": 621
        },
        "id": "EWRyYV7U_PKJ",
        "outputId": "004504df-87af-492c-f37a-59e94612c568"
      },
      "execution_count": 134,
      "outputs": [
        {
          "output_type": "display_data",
          "data": {
            "text/plain": [
              "<Figure size 720x720 with 2 Axes>"
            ],
            "image/png": "[encoded data removed]"
          },
          "metadata": {
            "needs_background": "light"
          }
        }
      ]
    },
    {
      "cell_type": "code",
      "source": [
        "# To show the correlation between Total sreams and peak position we will start by Grouping the data by artist and calculate the mean of Total Streams and Peak Position for each artist\n",
        "grouped = df.groupby('Artist Name').mean()\n",
        "grouped = grouped[['Total Streams', 'Peak Position']]\n",
        "\n",
        "# Now trying to Compute the correlation matrix\n",
        "corr = grouped.corr()\n",
        "\n",
        "# Plotting the heatmap\n",
        "plt.figure(figsize=(10,8))\n",
        "sns.heatmap(corr, annot=True, cmap='Wistia')\n",
        "plt.title('Correlation between Total Streams and Peak Position')\n",
        "plt.show()\n"
      ],
      "metadata": {
        "colab": {
          "base_uri": "https://localhost:8080/",
          "height": 499
        },
        "id": "pw-w6-8V_i_U",
        "outputId": "c0fda77e-6c90-4f43-a1b9-c0c59a706455"
      },
      "execution_count": 137,
      "outputs": [
        {
          "output_type": "display_data",
          "data": {
            "text/plain": [
              "<Figure size 720x576 with 2 Axes>"
            ],
            "image/png": "[encoded data removed]"
          },
          "metadata": {
            "needs_background": "light"
          }
        }
      ]
    },
    {
      "cell_type": "code",
      "source": [],
      "metadata": {
        "id": "KhbVITUy_jcZ"
      },
      "execution_count": null,
      "outputs": []
    }
  ]
}